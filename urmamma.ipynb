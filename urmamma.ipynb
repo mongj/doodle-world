{
 "cells": [
  {
   "cell_type": "code",
   "execution_count": 37,
   "id": "45887713",
   "metadata": {},
   "outputs": [],
   "source": [
    "import os\n",
    "from dotenv import load_dotenv\n",
    "\n",
    "load_dotenv()\n",
    "MESSHYAPI = os.getenv('MESSHYAPI')\n"
   ]
  },
  {
   "cell_type": "code",
   "execution_count": 30,
   "id": "cf1f4e3e",
   "metadata": {},
   "outputs": [],
   "source": [
    "import requests\n",
    "image_url = \"data:image/png;base64,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\"\n",
    "\n",
    "\n",
    "payload = {\n",
    "    \"image_url\": image_url,\n",
    "    \"enable_pbr\": True,\n",
    "    \"should_remesh\": True,\n",
    "    \"should_texture\": True,\n",
    "    \"ai_model\": \"latest\"\n",
    "}\n",
    "\n",
    "headers = {\n",
    "    \"Authorization\": f\"Bearer {MESSHYAPI}\"\n",
    "}\n",
    "\n",
    "response = requests.post(\n",
    "    \"https://api.meshy.ai/openapi/v1/image-to-3d\",\n",
    "    headers=headers,\n",
    "    json=payload,\n",
    ")\n",
    "\n",
    "response.raise_for_status()\n",
    "\n"
   ]
  },
  {
   "cell_type": "code",
   "execution_count": 31,
   "id": "391d28d1",
   "metadata": {},
   "outputs": [
    {
     "name": "stdout",
     "output_type": "stream",
     "text": [
      "{'result': '0199ad88-c8e4-7d66-932c-e571cd0dafb9'}\n"
     ]
    }
   ],
   "source": [
    "print(response.json())"
   ]
  },
  {
   "cell_type": "code",
   "execution_count": 32,
   "id": "a300608e",
   "metadata": {},
   "outputs": [
    {
     "name": "stdout",
     "output_type": "stream",
     "text": [
      "Status Code: 202\n",
      "Response Content: {\"result\":\"0199ad88-c8e4-7d66-932c-e571cd0dafb9\"}\n",
      "{'id': '0199ad88-c8e4-7d66-932c-e571cd0dafb9', 'name': '', 'art_style': '', 'object_prompt': '', 'style_prompt': '', 'negative_prompt': '', 'texture_prompt': '', 'texture_image_url': '', 'text_style_prompt': '', 'image_style_url': '', 'status': 'SUCCEEDED', 'created_at': 1759553046791, 'progress': 100, 'started_at': 1759553046806, 'finished_at': 1759553160236, 'expires_at': 1759812360236, 'task_error': None, 'model_url': 'https://assets.meshy.ai/40630f81-b3c8-45c1-acdb-7c19e651184e/tasks/0199ad88-c8e4-7d66-932c-e571cd0dafb9/output/model.glb?Expires=1759812360&Signature=KrayBx~~nYbTVfmx1q2AKCz-PvHE0hH7ekmuW64Q79wbNGZaCWaRMfi1msLDIfdWvzEJ3KP0x8zkqJWivLA-dQ9VpRUfHjB-9RtC01mJXy0t8hS3Jmfrt2~FFJAwl-mY3HuP-hQ-3drxsV9jH8IQnxWEdFMqq0VxG9VDs6ZLXc60kd8ZC1QMIQ9vO96HtJKHKW-aKqEgkoIt-57KG-KsFKa-2PRZI31aQqxU73P6qWpeh9Vi0jDyuSfO8029crZXpPJrqyw2~7QlMRlyrEM4BnGm1y1SCQytskKKR~FbddjOFJYlkvdavdxzsXdqDsZLUBeTchupfK~b3h33avYplA__&Key-Pair-Id=KL5I0C8H7HX83', 'model_urls': {'glb': 'https://assets.meshy.ai/40630f81-b3c8-45c1-acdb-7c19e651184e/tasks/0199ad88-c8e4-7d66-932c-e571cd0dafb9/output/model.glb?Expires=1759812360&Signature=KrayBx~~nYbTVfmx1q2AKCz-PvHE0hH7ekmuW64Q79wbNGZaCWaRMfi1msLDIfdWvzEJ3KP0x8zkqJWivLA-dQ9VpRUfHjB-9RtC01mJXy0t8hS3Jmfrt2~FFJAwl-mY3HuP-hQ-3drxsV9jH8IQnxWEdFMqq0VxG9VDs6ZLXc60kd8ZC1QMIQ9vO96HtJKHKW-aKqEgkoIt-57KG-KsFKa-2PRZI31aQqxU73P6qWpeh9Vi0jDyuSfO8029crZXpPJrqyw2~7QlMRlyrEM4BnGm1y1SCQytskKKR~FbddjOFJYlkvdavdxzsXdqDsZLUBeTchupfK~b3h33avYplA__&Key-Pair-Id=KL5I0C8H7HX83', 'fbx': 'https://assets.meshy.ai/40630f81-b3c8-45c1-acdb-7c19e651184e/tasks/0199ad88-c8e4-7d66-932c-e571cd0dafb9/output/model.fbx?Expires=1759812360&Signature=S0Is4OkXfcA7l2pPHGSJiRmHYEnhaJewJTk5OsUDhGYQ8EKjxptm~JbK9~yM5H54Hampy9XUAFHQc7RY8Kdyvo2I-JfZtrdQKbjWnidrisDag2h-ehAEupwZ2fGFVyeembntslaZBRv~6bZENULkVZMs4AakHEpXhJQkUVoHTy5pLv4Bo80ABq62Ool3GGd-MDGlhno5sK9Yd1D-7PJfoCAEPzL2s0RtrTQbyKW6hN0OIeB3370Xc5Hze7w50Bc3gDH2oUJvBoimb1MHlxiejWfNPMfedrlxS4yssgOPmxJhSayzcpishE1k~BiFzQNTeFZgsTy4fONO2AYK9-NWdQ__&Key-Pair-Id=KL5I0C8H7HX83', 'usdz': 'https://assets.meshy.ai/40630f81-b3c8-45c1-acdb-7c19e651184e/tasks/0199ad88-c8e4-7d66-932c-e571cd0dafb9/output/model.usdz?Expires=1759812360&Signature=r45Ja5DMs3BMnEmP~c8Zu5eu2AKFnzs6Kh9lslAVU7pXcaTt1M7YhYxR693zS~r9gNHyqd2muN9RKvxHRvAqQnrTHKe6-u9LHfPidiHAlFL7AcGdhmRNg4sBPYQX6ULqgHpLovQHMQ6hXZtSETAgMxk~L912aJgVC0L06Cb3EUOF2hpPLh3X~cazZ6d5IzH7f2pPFKmUnKlG0J5cV7I0iHbmkCyeNfymkwWmDp-pUo3Acv9SiXRjWgNt2P0Vyzh0xEmFM1NQ6czginBOb2kqK2I-Eg-FyaKucxdb2c80eidN9-CapFGGbHOihWBiADq48ewf1LjScDSwVU426fiv5w__&Key-Pair-Id=KL5I0C8H7HX83', 'obj': 'https://assets.meshy.ai/40630f81-b3c8-45c1-acdb-7c19e651184e/tasks/0199ad88-c8e4-7d66-932c-e571cd0dafb9/output/model.obj?Expires=1759812360&Signature=oW1BFCDP5VB-sqSLCthB1is9J3vhLX53M7V7NjzxzrT4eqUz1SnWVgJYj5Dh3Cka4YboAZZ8gINgBXz7mCGNHfWWdE6POPYo7mL4G205wC0Fdi0-kVjNn2etUUXzmRMLMdyueEDlO1WqlyuDHd1myRKBwvjIVCSlLq-UDf3ZeIC3hpp86gaLzSUBW8tx7abyj2vkwQlEb5ZI0p8kCyRiq6nAdRuJQqqQRwR08d4KvvOUWuc0gVGKvfkUwi9iTosyb1z7MIoLiNpEr3o1PdFQMZdf-auFqz4ueFwro69qG2NDrJ-kApfEbEujY32BxugM06OT7fdnC4AgxsPOLL-Fbw__&Key-Pair-Id=KL5I0C8H7HX83', 'mtl': 'https://assets.meshy.ai/40630f81-b3c8-45c1-acdb-7c19e651184e/tasks/0199ad88-c8e4-7d66-932c-e571cd0dafb9/output/model.mtl?Expires=1759812360&Signature=NgmWO9bl~oosTp7Z4YUoxTf2RQK~lUaZ-0HhiELZ5E7p-cOzJ6YCmWmxa~w1UPxbRB~XCzueuzKV2PQ7sjVBHrf41yDENHC-~fWcDm406z2btHwJfeIUCLTCY8nBv3vJG7lqr6dtUl4Tbu5rper4hFHjVoS4SCcPyruSDiPe-AcunbkDpgAJgFIEHteiw--himTfGJhILpwBoY7Rp6ZMw2KITmoHCs034pQZPRRIsXA9svu9KQw1muW29vP4HyAgR7FLROtkfCe3DFRhyW1Hai7luR8RBINe85HqhlGL4rhksoFFt~OutSprIJ4x7J4U2K9m-ttf7tWC8HsUZFeEfg__&Key-Pair-Id=KL5I0C8H7HX83'}, 'thumbnail_url': 'https://assets.meshy.ai/40630f81-b3c8-45c1-acdb-7c19e651184e/tasks/0199ad88-c8e4-7d66-932c-e571cd0dafb9/output/preview.png?Expires=1759812360&Signature=qk5IcPX4KAKTAbFz4DH7DWp03R7rfcO~MWktr6UE1WJXuOMkd03HMmaxfHMlPw2NlqZf10jECzGvKCF9ShuJNsH60jk7-P1M40annpt3snADkQpeu9NdMWqt4sPL~HdfG6bHPeBYjkECpPzP~Fd7mEIZUsoS0rBgDrkUjqnBHTGimwQB3-LWFGR0rLp-~P9U64pALtCDKoi3EDZ~7AEKNyfxtpX4u9HJ7Exx3fS15Tw~2CUcpEU4CxvoU6SjMHNzTfp24rdbTfyk2I6zkiVf1UQDq8iP2PxTWvmdTAeS0bWIQydbSvTTU1NZaLt2LcqhNXrKvgkixoqaGxEihOPVaw__&Key-Pair-Id=KL5I0C8H7HX83', 'texture_urls': [{'base_color': 'https://assets.meshy.ai/40630f81-b3c8-45c1-acdb-7c19e651184e/tasks/0199ad88-c8e4-7d66-932c-e571cd0dafb9/output/texture_0.png?Expires=1759812360&Signature=AEv9Guipcbz3bMEgNPHOG~Ilyc6OJk16v350ft09QG9x5t~GubJ8-X3zBtTqqucPy7Z3U6o-SNTiWekliOwbmoxH7nPVJK0k0leJCO-IihqcA~1mBoaoKkctnRl5zKHVXiX2VbFnMAOVGb1wRW1Nug6ADVnQ5TytJxolhwE8A~eK9K0DgXyO-6AVzWs~GYJ1XQ8X9vxozC9LhXVybdgKmWqlSSGxG~xxGDz8ZsZUO-mTCzGhPICA7W222yspKqkTl7QbpDW06XhaalT7hxAXV8DjjdW9rMUQm0ie2IhR8In4JfwNHa9vlSmEzVxmx2zAp4qFyljQE8YoNnbjRIEbtA__&Key-Pair-Id=KL5I0C8H7HX83', 'metallic': 'https://assets.meshy.ai/40630f81-b3c8-45c1-acdb-7c19e651184e/tasks/0199ad88-c8e4-7d66-932c-e571cd0dafb9/output/texture_0_metallic.png?Expires=1759812360&Signature=esB1p1YcctKbaJehF8ExCBV6ShCupS1JRo6kXu-b12ru5MTyjm~Er~WzY~8vkUj1LUkDTLdXt-ribXB0aWsvK1Kv-HkUvCUA26rrQrYbkc5zwbz3c9qpsEuDzDfQucLP3Qb6i~I0QJLgdTKaQ4pcumXCv0ehbrESTbY8SO8v8BMNuI1WhSoam8go7KGVRH372FEPa3ct6HksZPAKuwkXezhj7HZmSde-DSJsh2wPcok-2uBv6y~onyP5sgQgubV7OsFL1r6CKTR8VTvC~Sgar5G7AzliDwAGHiitzf9J1bUNpxumkZXkKRc5YwQMPflRYFx3m1GQtCy71u~H5X~Fcw__&Key-Pair-Id=KL5I0C8H7HX83', 'roughness': 'https://assets.meshy.ai/40630f81-b3c8-45c1-acdb-7c19e651184e/tasks/0199ad88-c8e4-7d66-932c-e571cd0dafb9/output/texture_0_roughness.png?Expires=1759812360&Signature=jZ2ia2Hvu64fs0zykDZ1eMIvzUyck8OeWw5Z9scCH1SomFZecrOV6LZ-rQLYAq9~QUSDIne5XisfYSlMFnBFa0rbQIwRp5bHLZjGB8qFGIaLsyaRbrsOmYVHejb5sYzzysFmp247OyUNo0jeBqiqr~UHl1VXUCsufD8fqAqEB~Ih26otBjF7ryviQxbR6AF6axIu4A5ERA8gbbrI05E2-bumx1oa~-xGOuUTk0b6RUzNNIrl3YjvhOX53usp4lwr0yAcogKpUnrD-skpK5Dggd6co6bpWUhp79tqbokEvbD0hXz-o6UwYNd6VVGbNWEU3VSDo0qEpZ2hrQzzCKXKig__&Key-Pair-Id=KL5I0C8H7HX83', 'normal': 'https://assets.meshy.ai/40630f81-b3c8-45c1-acdb-7c19e651184e/tasks/0199ad88-c8e4-7d66-932c-e571cd0dafb9/output/texture_0_normal.png?Expires=1759812360&Signature=SvuEDdFvYWoHggMFeGaMKW10XHo~8oADMxvQ-90MTpAPfgrY7hyUCtqIqXLLzdYJUZjS4oiZoIFw89kYpirZUJO0C2~FWcWTYgLSV4j72vx~2wTL4~M3y6WAh4w5rD3p7Ui4yMKTOe3ND0JkGOHQFzprVHpUKUnOUpLr1q~AbhEl1yf~M9LktxsRuhXiAEOj1KqL5tGO90nbk1yeifxzenlgp2ziEUbZ5V8pjbxarLBms2pHGJOWXrQXqa3h-yU2t4Gzg39SJasYZPSM3hqt6h6UuTmqRzfU6Na9JSxfIV20sZrXcsBSjuPIhtvxOK3W7XMRxxNNTIl-qe10tDxAow__&Key-Pair-Id=KL5I0C8H7HX83'}]}\n"
     ]
    }
   ],
   "source": [
    "import requests\n",
    "\n",
    "\n",
    "task_id = response.json()['result']\n",
    "headers = {\n",
    "    \"Authorization\": f\"Bearer {MESSHYAPI}\"\n",
    "}\n",
    "\n",
    "response_retrieve = requests.get(\n",
    "    f\"https://api.meshy.ai/openapi/v1/image-to-3d/{task_id}\",\n",
    "    headers=headers,\n",
    ")\n",
    "\n",
    "# Debug: Print status code and response content before raising error\n",
    "print(f\"Status Code: {response.status_code}\")\n",
    "print(f\"Response Content: {response.text}\")\n",
    "\n",
    "# The 400 error suggests the task_id might be invalid or the task has expired\n",
    "# Check if the task_id from the previous cell's response is correct\n",
    "response_retrieve.raise_for_status()\n",
    "print(response_retrieve.json())"
   ]
  },
  {
   "cell_type": "code",
   "execution_count": 33,
   "id": "de01496b",
   "metadata": {},
   "outputs": [
    {
     "name": "stdout",
     "output_type": "stream",
     "text": [
      "Status: SUCCEEDED\n",
      "GLB Model URL: https://assets.meshy.ai/40630f81-b3c8-45c1-acdb-7c19e651184e/tasks/0199ad88-c8e4-7d66-932c-e571cd0dafb9/output/model.glb?Expires=1759812360&Signature=KrayBx~~nYbTVfmx1q2AKCz-PvHE0hH7ekmuW64Q79wbNGZaCWaRMfi1msLDIfdWvzEJ3KP0x8zkqJWivLA-dQ9VpRUfHjB-9RtC01mJXy0t8hS3Jmfrt2~FFJAwl-mY3HuP-hQ-3drxsV9jH8IQnxWEdFMqq0VxG9VDs6ZLXc60kd8ZC1QMIQ9vO96HtJKHKW-aKqEgkoIt-57KG-KsFKa-2PRZI31aQqxU73P6qWpeh9Vi0jDyuSfO8029crZXpPJrqyw2~7QlMRlyrEM4BnGm1y1SCQytskKKR~FbddjOFJYlkvdavdxzsXdqDsZLUBeTchupfK~b3h33avYplA__&Key-Pair-Id=KL5I0C8H7HX83\n"
     ]
    }
   ],
   "source": [
    "# Poll every 5 seconds until the model is ready\n",
    "import time\n",
    "\n",
    "while True:\n",
    "    response_retrieve = requests.get(\n",
    "        f\"https://api.meshy.ai/openapi/v1/image-to-3d/{task_id}\",\n",
    "        headers=headers,\n",
    "    )\n",
    "    response_retrieve.raise_for_status()\n",
    "    response_data = response_retrieve.json()\n",
    "    \n",
    "    status = response_data.get('status')\n",
    "    print(f\"Status: {status}\")\n",
    "    \n",
    "    if status == 'SUCCEEDED':\n",
    "        glb_url = response_data['model_urls']['glb']\n",
    "        print(f\"GLB Model URL: {glb_url}\")\n",
    "        break\n",
    "    elif status == 'FAILED':\n",
    "        print(\"Model generation failed\")\n",
    "        break\n",
    "    else:\n",
    "        print(\"Model still processing, waiting 5 seconds...\")\n",
    "        time.sleep(5)"
   ]
  }
 ],
 "metadata": {
  "kernelspec": {
   "display_name": "Python 3",
   "language": "python",
   "name": "python3"
  },
  "language_info": {
   "codemirror_mode": {
    "name": "ipython",
    "version": 3
   },
   "file_extension": ".py",
   "mimetype": "text/x-python",
   "name": "python",
   "nbconvert_exporter": "python",
   "pygments_lexer": "ipython3",
   "version": "3.10.15"
  }
 },
 "nbformat": 4,
 "nbformat_minor": 5
}
