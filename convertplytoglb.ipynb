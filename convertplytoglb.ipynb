{
 "cells": [
  {
   "cell_type": "code",
   "execution_count": 2,
   "id": "63f555b4",
   "metadata": {},
   "outputs": [
    {
     "name": "stdout",
     "output_type": "stream",
     "text": [
      "\n",
      "Script is ready. To run the conversion, uncomment the last line and update the 'input_file' path.\n"
     ]
    }
   ],
   "source": [
    "import pdal\n",
    "import json\n",
    "\n",
    "def convert_spz_to_glb(input_spz_path, output_glb_path):\n",
    "    \"\"\"\n",
    "    Converts a.spz file to a.glb mesh file using a PDAL pipeline.\n",
    "\n",
    "    Args:\n",
    "        input_spz_path (str): The file path for the input.spz file.\n",
    "        output_glb_path (str): The file path for the output.glb file.\n",
    "    \"\"\"\n",
    "    \n",
    "    print(f\"Starting conversion from {input_spz_path} to {output_glb_path}...\")\n",
    "\n",
    "    # Define the PDAL pipeline as a Python dictionary\n",
    "    pipeline_definition = {\n",
    "        \"pipeline\": [\n",
    "            {\n",
    "                \"type\": \"readers.spz\",\n",
    "                \"filename\": input_spz_path\n",
    "            },\n",
    "            {\n",
    "                \"type\": \"filters.greedyprojection\"\n",
    "            },\n",
    "            {\n",
    "                \"type\": \"writers.gltf\",\n",
    "                \"filename\": output_glb_path\n",
    "            }\n",
    "        ]\n",
    "    }\n",
    "\n",
    "    # Convert the dictionary to a JSON string\n",
    "    pipeline_json = json.dumps(pipeline_definition)\n",
    "\n",
    "    try:\n",
    "        # Create and execute the PDAL pipeline\n",
    "        pipeline = pdal.Pipeline(pipeline_json)\n",
    "        # pipeline.validate()  # Check if the JSON is valid\n",
    "        count = pipeline.execute()\n",
    "        \n",
    "        print(f\"Successfully converted file.\")\n",
    "        print(f\"Processed {count} points.\")\n",
    "        print(f\"Output saved to: {output_glb_path}\")\n",
    "\n",
    "    except Exception as e:\n",
    "        print(f\"An error occurred during the conversion: {e}\")\n",
    "\n",
    "# --- Example Usage ---\n",
    "# To test this in your notebook, you will need a.spz file.\n",
    "# If you don't have one, you cannot run this example directly.\n",
    "# Replace \"path/to/your/input.spz\" with the actual path to your file.\n",
    "\n",
    "# Define input and output file paths\n",
    "input_file = \"/Users/timothy/Desktop/doodle-world/public/test.spz\"\n",
    "output_file = \"test.glb\"\n",
    "\n",
    "# Call the conversion function\n",
    "# convert_spz_to_glb(input_file, output_file)\n",
    "\n",
    "print(\"\\nScript is ready. To run the conversion, uncomment the last line and update the 'input_file' path.\")"
   ]
  },
  {
   "cell_type": "code",
   "execution_count": 2,
   "id": "9b79554e",
   "metadata": {},
   "outputs": [
    {
     "name": "stdout",
     "output_type": "stream",
     "text": [
      "Starting conversion from /Users/timothy/Desktop/doodle-world/public/test.spz to test.glb...\n",
      "An error occurred during the conversion: Couldn't create reader stage of type 'readers.spz'.\n",
      "You probably have a version of PDAL that didn't come with a plugin\n",
      "you're trying to load.  Please see the FAQ at https://pdal.io/faq.html\n"
     ]
    }
   ],
   "source": [
    "convert_spz_to_glb(input_file, output_file)"
   ]
  },
  {
   "cell_type": "code",
   "execution_count": 4,
   "id": "c86f6424",
   "metadata": {},
   "outputs": [],
   "source": [
    "import pdal\n",
    "import json\n",
    "\n",
    "def convert_ply_to_glb(input_ply_path, output_glb_path):\n",
    "    \"\"\"\n",
    "    Converts a.ply point cloud file to a.glb mesh file using a PDAL pipeline.\n",
    "\n",
    "    Args:\n",
    "        input_ply_path (str): The file path for the input.ply file.\n",
    "        output_glb_path (str): The file path for the output.glb file.\n",
    "    \"\"\"\n",
    "    \n",
    "    print(f\"Starting conversion from {input_ply_path} to {output_glb_path}...\")\n",
    "\n",
    "    # Define the PDAL pipeline to read PLY, create a mesh, and write GLB\n",
    "    pipeline_definition = {\n",
    "        \"pipeline\": [\n",
    "            {\n",
    "                \"type\": \"readers.ply\",\n",
    "                \"filename\": input_ply_path\n",
    "            },\n",
    "            {\n",
    "                \"type\": \"filters.greedyprojection\",\n",
    "                \"radius\": 1.0,\n",
    "                \"multiplier\": 2.5\n",
    "            },\n",
    "            {\n",
    "                \"type\": \"writers.gltf\",\n",
    "                \"filename\": output_glb_path\n",
    "            }\n",
    "        ]\n",
    "    }\n",
    "\n",
    "    # Convert the dictionary to a JSON string\n",
    "    pipeline_json = json.dumps(pipeline_definition)\n",
    "\n",
    "    try:\n",
    "        # Create and execute the PDAL pipeline\n",
    "        pipeline = pdal.Pipeline(pipeline_json)\n",
    "        # pipeline.validate()\n",
    "        count = pipeline.execute()\n",
    "        \n",
    "        print(f\"Successfully converted file.\")\n",
    "        print(f\"Processed {count} points.\")\n",
    "        print(f\"Output saved to: {output_glb_path}\")\n",
    "\n",
    "    except Exception as e:\n",
    "        print(f\"An error occurred during the conversion: {e}\")\n",
    "\n",
    "\n"
   ]
  },
  {
   "cell_type": "code",
   "execution_count": 5,
   "id": "d4b939f6",
   "metadata": {},
   "outputs": [
    {
     "name": "stdout",
     "output_type": "stream",
     "text": [
      "Starting conversion from ./merge_test/merged.ply to fantasy100.glb...\n",
      "Successfully converted file.\n",
      "Processed 559898 points.\n",
      "Output saved to: fantasy100.glb\n"
     ]
    }
   ],
   "source": [
    "# --- Example Usage ---\n",
    "# 1. Make sure you have run the 'splat-transform' command in your terminal first.\n",
    "# 2. Update the 'input_file' variable below to match the name of your new.ply file.\n",
    "\n",
    "# Define input and output file paths\n",
    "input_file = \"./merge_test/merged.ply\"  # <-- Use the.ply file you created in Step 2\n",
    "output_file = \"fantasy100.glb\"\n",
    "\n",
    "# Call the conversion function\n",
    "\n",
    "convert_ply_to_glb(input_file, output_file)"
   ]
  },
  {
   "cell_type": "code",
   "execution_count": null,
   "id": "0078fc2a",
   "metadata": {},
   "outputs": [],
   "source": []
  }
 ],
 "metadata": {
  "kernelspec": {
   "display_name": "Python 3",
   "language": "python",
   "name": "python3"
  },
  "language_info": {
   "codemirror_mode": {
    "name": "ipython",
    "version": 3
   },
   "file_extension": ".py",
   "mimetype": "text/x-python",
   "name": "python",
   "nbconvert_exporter": "python",
   "pygments_lexer": "ipython3",
   "version": "3.12.3"
  }
 },
 "nbformat": 4,
 "nbformat_minor": 5
}
